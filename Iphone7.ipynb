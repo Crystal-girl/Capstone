{
 "cells": [
  {
   "cell_type": "markdown",
   "metadata": {},
   "source": [
    "<h1 align=\"center\" color:blue> Review Analysis </h1>"
   ]
  },
  {
   "cell_type": "markdown",
   "metadata": {},
   "source": [
    "## Steps\n",
    "\n",
    "- Length of Review\n",
    "- Number of Sentences\n",
    "- Average Sentence Length\n",
    "- Percentage of Question Sentence\n",
    "- Number of Exclamation Mark\n",
    "- Number of Upper case words (Fully Upper)\n",
    "- Number of words with Proper Format (Upper followed by small case)\n",
    "- Number of Emojis\n",
    "\n",
    "\n",
    "## NLP\n",
    "\n",
    "- Correct Spelling from the review\n",
    "- Remove Stop Words\n",
    "- Apply Lemmatization\n",
    "- Create Unigram of the corpus\n",
    "- Create Tf-Idf Matrix of the Corpus\n",
    "- POS Tagging\n",
    "- % Nouns\n",
    "- % Verbs\n",
    "- % Adjective\n",
    "- % Adverbs"
   ]
  },
  {
   "cell_type": "code",
   "execution_count": 240,
   "metadata": {},
   "outputs": [],
   "source": [
    "# Importing Necessary Modules\n",
    "import pandas as pd\n",
    "import numpy as np\n",
    "import matplotlib.pyplot as plt\n",
    "import seaborn as sns\n",
    "import spacy\n",
    "nlp=spacy.load('en_core_web_sm')\n",
    "from sklearn.model_selection import train_test_split\n",
    "from spacy.pipeline import SentenceSegmenter\n",
    "import re\n",
    "import warnings\n",
    "warnings.filterwarnings('ignore')\n",
    "import textblob\n",
    "from textblob import TextBlob\n",
    "\n",
    "# Customization of View\n",
    "pd.options.display.max_columns = 999"
   ]
  },
  {
   "cell_type": "code",
   "execution_count": 146,
   "metadata": {},
   "outputs": [],
   "source": [
    "df=pd.read_csv(\"Iphone7 Reviews.csv\",index_col=\"Sr.No\")"
   ]
  },
  {
   "cell_type": "code",
   "execution_count": 147,
   "metadata": {},
   "outputs": [
    {
     "data": {
      "text/plain": [
       "Int64Index([   1,    2,    3,    4,    5,    6,    7,    8,    9,   10,\n",
       "            ...\n",
       "            1102, 1104, 1105, 1198, 1204, 1206, 1207, 1229, 1230, 1259],\n",
       "           dtype='int64', name='Sr.No', length=263)"
      ]
     },
     "execution_count": 147,
     "metadata": {},
     "output_type": "execute_result"
    }
   ],
   "source": [
    "df.index"
   ]
  },
  {
   "cell_type": "code",
   "execution_count": 148,
   "metadata": {},
   "outputs": [
    {
     "data": {
      "text/plain": [
       "Index(['Review_Title', 'Review_Text', 'Review_Rating', 'Buyer_Type',\n",
       "       'Review_Date', 'Upvote', 'Downvote', 'read', 'Sum_of_Up_Down'],\n",
       "      dtype='object')"
      ]
     },
     "execution_count": 148,
     "metadata": {},
     "output_type": "execute_result"
    }
   ],
   "source": [
    "df.columns"
   ]
  },
  {
   "cell_type": "code",
   "execution_count": 149,
   "metadata": {},
   "outputs": [
    {
     "data": {
      "text/html": [
       "<div>\n",
       "<style scoped>\n",
       "    .dataframe tbody tr th:only-of-type {\n",
       "        vertical-align: middle;\n",
       "    }\n",
       "\n",
       "    .dataframe tbody tr th {\n",
       "        vertical-align: top;\n",
       "    }\n",
       "\n",
       "    .dataframe thead th {\n",
       "        text-align: right;\n",
       "    }\n",
       "</style>\n",
       "<table border=\"1\" class=\"dataframe\">\n",
       "  <thead>\n",
       "    <tr style=\"text-align: right;\">\n",
       "      <th></th>\n",
       "      <th>Review_Title</th>\n",
       "      <th>Review_Text</th>\n",
       "      <th>Review_Rating</th>\n",
       "      <th>Buyer_Type</th>\n",
       "      <th>Review_Date</th>\n",
       "      <th>Upvote</th>\n",
       "      <th>Downvote</th>\n",
       "      <th>read</th>\n",
       "      <th>Sum_of_Up_Down</th>\n",
       "    </tr>\n",
       "    <tr>\n",
       "      <th>Sr.No</th>\n",
       "      <th></th>\n",
       "      <th></th>\n",
       "      <th></th>\n",
       "      <th></th>\n",
       "      <th></th>\n",
       "      <th></th>\n",
       "      <th></th>\n",
       "      <th></th>\n",
       "      <th></th>\n",
       "    </tr>\n",
       "  </thead>\n",
       "  <tbody>\n",
       "    <tr>\n",
       "      <th>1</th>\n",
       "      <td>Classy product</td>\n",
       "      <td>Too good luv it\\n iPhone is only camera lovers</td>\n",
       "      <td>5</td>\n",
       "      <td>Certified Buyer</td>\n",
       "      <td>4 months ago</td>\n",
       "      <td>704</td>\n",
       "      <td>88</td>\n",
       "      <td>NaN</td>\n",
       "      <td>792</td>\n",
       "    </tr>\n",
       "    <tr>\n",
       "      <th>2</th>\n",
       "      <td>Must buy!</td>\n",
       "      <td>From last 5 years my younger brother was using...</td>\n",
       "      <td>5</td>\n",
       "      <td>Certified Buyer</td>\n",
       "      <td>4 months ago</td>\n",
       "      <td>2100</td>\n",
       "      <td>314</td>\n",
       "      <td>NaN</td>\n",
       "      <td>2414</td>\n",
       "    </tr>\n",
       "    <tr>\n",
       "      <th>3</th>\n",
       "      <td>Excellent</td>\n",
       "      <td>I click this photo on wall painting</td>\n",
       "      <td>5</td>\n",
       "      <td>Certified Buyer</td>\n",
       "      <td>5 months ago</td>\n",
       "      <td>1062</td>\n",
       "      <td>160</td>\n",
       "      <td>NaN</td>\n",
       "      <td>1222</td>\n",
       "    </tr>\n",
       "    <tr>\n",
       "      <th>4</th>\n",
       "      <td>Pretty good</td>\n",
       "      <td>It was as expected ❤</td>\n",
       "      <td>4</td>\n",
       "      <td>Certified Buyer</td>\n",
       "      <td>4 months ago</td>\n",
       "      <td>1394</td>\n",
       "      <td>224</td>\n",
       "      <td>NaN</td>\n",
       "      <td>1618</td>\n",
       "    </tr>\n",
       "    <tr>\n",
       "      <th>5</th>\n",
       "      <td>Highly recommended</td>\n",
       "      <td>superb product...i liked it very much</td>\n",
       "      <td>5</td>\n",
       "      <td>Certified Buyer</td>\n",
       "      <td>Dec, 2018</td>\n",
       "      <td>400</td>\n",
       "      <td>66</td>\n",
       "      <td>NaN</td>\n",
       "      <td>466</td>\n",
       "    </tr>\n",
       "  </tbody>\n",
       "</table>\n",
       "</div>"
      ],
      "text/plain": [
       "             Review_Title                                        Review_Text  \\\n",
       "Sr.No                                                                          \n",
       "1          Classy product     Too good luv it\\n iPhone is only camera lovers   \n",
       "2               Must buy!  From last 5 years my younger brother was using...   \n",
       "3               Excellent                I click this photo on wall painting   \n",
       "4             Pretty good                               It was as expected ❤   \n",
       "5      Highly recommended              superb product...i liked it very much   \n",
       "\n",
       "       Review_Rating       Buyer_Type   Review_Date  Upvote  Downvote read  \\\n",
       "Sr.No                                                                        \n",
       "1                  5  Certified Buyer  4 months ago     704        88  NaN   \n",
       "2                  5  Certified Buyer  4 months ago    2100       314  NaN   \n",
       "3                  5  Certified Buyer  5 months ago    1062       160  NaN   \n",
       "4                  4  Certified Buyer  4 months ago    1394       224  NaN   \n",
       "5                  5  Certified Buyer     Dec, 2018     400        66  NaN   \n",
       "\n",
       "       Sum_of_Up_Down  \n",
       "Sr.No                  \n",
       "1                 792  \n",
       "2                2414  \n",
       "3                1222  \n",
       "4                1618  \n",
       "5                 466  "
      ]
     },
     "execution_count": 149,
     "metadata": {},
     "output_type": "execute_result"
    }
   ],
   "source": [
    "df.head()"
   ]
  },
  {
   "cell_type": "markdown",
   "metadata": {},
   "source": [
    "### Length Of Reviews"
   ]
  },
  {
   "cell_type": "code",
   "execution_count": 150,
   "metadata": {},
   "outputs": [
    {
     "data": {
      "text/plain": [
       "Sr.No\n",
       "1          Too good luv it\\n iPhone is only camera lovers\n",
       "2       From last 5 years my younger brother was using...\n",
       "3                     I click this photo on wall painting\n",
       "4                                    It was as expected ❤\n",
       "5                   superb product...i liked it very much\n",
       "                              ...                        \n",
       "1206    I ordered iphone from SupercomNet\\n And here o...\n",
       "1207    I have used for only two weeks and the phone g...\n",
       "1229    Awesome phone...I preordered the phone not onl...\n",
       "1230    The IPhone 7 is a great device. There are no l...\n",
       "1259    I received a defective product - the iphone wa...\n",
       "Name: Review_Text, Length: 263, dtype: object"
      ]
     },
     "execution_count": 150,
     "metadata": {},
     "output_type": "execute_result"
    }
   ],
   "source": [
    "df.Review_Text"
   ]
  },
  {
   "cell_type": "code",
   "execution_count": 151,
   "metadata": {},
   "outputs": [],
   "source": [
    "df[\"Len_before\"] = df.Review_Text.apply(lambda x: len(x.split()))"
   ]
  },
  {
   "cell_type": "code",
   "execution_count": 152,
   "metadata": {},
   "outputs": [
    {
     "data": {
      "image/png": "[encoded data removed]",
      "text/plain": [
       "<Figure size 432x288 with 1 Axes>"
      ]
     },
     "metadata": {
      "needs_background": "light"
     },
     "output_type": "display_data"
    }
   ],
   "source": [
    "sns.distplot(df.Len_before,kde=False)\n",
    "plt.xlabel(\"Length of the Reviews\")\n",
    "plt.ylabel(\"Frequency of Reviews\")\n",
    "plt.title(\"Len of Reviews vs Frequency\")\n",
    "plt.show()"
   ]
  },
  {
   "cell_type": "code",
   "execution_count": 153,
   "metadata": {},
   "outputs": [
    {
     "data": {
      "text/plain": [
       "count    263.000000\n",
       "mean      57.532319\n",
       "std       76.299167\n",
       "min        1.000000\n",
       "25%        9.000000\n",
       "50%       36.000000\n",
       "75%       72.500000\n",
       "max      633.000000\n",
       "Name: Len_before, dtype: float64"
      ]
     },
     "execution_count": 153,
     "metadata": {},
     "output_type": "execute_result"
    }
   ],
   "source": [
    "df.Len_before.describe()"
   ]
  },
  {
   "cell_type": "markdown",
   "metadata": {},
   "source": [
    "### Number of Sentence"
   ]
  },
  {
   "cell_type": "code",
   "execution_count": 154,
   "metadata": {},
   "outputs": [],
   "source": [
    "pipeline = spacy.load('en_trf_bertbaseuncased_lg')"
   ]
  },
  {
   "cell_type": "code",
   "execution_count": 155,
   "metadata": {},
   "outputs": [],
   "source": [
    "def num_sentence(text):\n",
    "    doc = pipeline(text)\n",
    "    return len(list(doc.sents))"
   ]
  },
  {
   "cell_type": "markdown",
   "metadata": {},
   "source": [
    "**Using Transformers to count the number of sentences is taking long time compared to English() in spacy.... (Experimented by Tamse) will be used going forward**"
   ]
  },
  {
   "cell_type": "code",
   "execution_count": 156,
   "metadata": {},
   "outputs": [],
   "source": [
    "df['Num_Sentence']=df.Review_Text.apply(num_sentence)"
   ]
  },
  {
   "cell_type": "markdown",
   "metadata": {},
   "source": [
    "### Average Sentence Length"
   ]
  },
  {
   "cell_type": "code",
   "execution_count": 157,
   "metadata": {},
   "outputs": [
    {
     "data": {
      "text/plain": [
       "3.9961977186311786"
      ]
     },
     "execution_count": 157,
     "metadata": {},
     "output_type": "execute_result"
    }
   ],
   "source": [
    "df.Num_Sentence.mean()"
   ]
  },
  {
   "cell_type": "markdown",
   "metadata": {},
   "source": [
    "### Number of Question Sentence"
   ]
  },
  {
   "cell_type": "code",
   "execution_count": 158,
   "metadata": {},
   "outputs": [
    {
     "data": {
      "text/plain": [
       "Sr.No\n",
       "1       0\n",
       "2       0\n",
       "3       0\n",
       "4       0\n",
       "5       0\n",
       "       ..\n",
       "1206    2\n",
       "1207    0\n",
       "1229    0\n",
       "1230    0\n",
       "1259    0\n",
       "Name: No_QMark, Length: 263, dtype: int64"
      ]
     },
     "execution_count": 158,
     "metadata": {},
     "output_type": "execute_result"
    }
   ],
   "source": [
    "df['No_QMark'] = df.Review_Text.str.count(pat='\\?')\n",
    "df.No_QMark"
   ]
  },
  {
   "cell_type": "code",
   "execution_count": 159,
   "metadata": {},
   "outputs": [
    {
     "data": {
      "text/plain": [
       "0    260\n",
       "1      2\n",
       "2      1\n",
       "Name: No_QMark, dtype: int64"
      ]
     },
     "execution_count": 159,
     "metadata": {},
     "output_type": "execute_result"
    }
   ],
   "source": [
    "df.No_QMark.value_counts()"
   ]
  },
  {
   "cell_type": "markdown",
   "metadata": {},
   "source": [
    "### Number of Exclamation Mark"
   ]
  },
  {
   "cell_type": "code",
   "execution_count": 160,
   "metadata": {},
   "outputs": [
    {
     "data": {
      "text/plain": [
       "Sr.No\n",
       "1       14.0\n",
       "2        9.0\n",
       "3        3.0\n",
       "4        3.0\n",
       "5        1.0\n",
       "        ... \n",
       "1206     NaN\n",
       "1207     NaN\n",
       "1229     NaN\n",
       "1230     NaN\n",
       "1259     NaN\n",
       "Name: No_ExMark, Length: 263, dtype: float64"
      ]
     },
     "execution_count": 160,
     "metadata": {},
     "output_type": "execute_result"
    }
   ],
   "source": [
    "df['No_ExMark']=df.Review_Text.str.count(pat='!').value_counts()\n",
    "df.No_ExMark"
   ]
  },
  {
   "cell_type": "code",
   "execution_count": 161,
   "metadata": {},
   "outputs": [
    {
     "data": {
      "text/plain": [
       "1.0     3\n",
       "3.0     2\n",
       "2.0     1\n",
       "9.0     1\n",
       "14.0    1\n",
       "Name: No_ExMark, dtype: int64"
      ]
     },
     "execution_count": 161,
     "metadata": {},
     "output_type": "execute_result"
    }
   ],
   "source": [
    "df.No_ExMark.value_counts()"
   ]
  },
  {
   "cell_type": "markdown",
   "metadata": {},
   "source": [
    "### Number of Upper case words (Fully Upper)"
   ]
  },
  {
   "cell_type": "code",
   "execution_count": 162,
   "metadata": {},
   "outputs": [],
   "source": [
    "def count_upper(text):\n",
    "    count=0\n",
    "    for i in text.split():\n",
    "        if text.isupper():\n",
    "            count+=1\n",
    "    return count"
   ]
  },
  {
   "cell_type": "code",
   "execution_count": 163,
   "metadata": {},
   "outputs": [],
   "source": [
    "df['No_Upper']=df.Review_Text.apply(count_upper)"
   ]
  },
  {
   "cell_type": "code",
   "execution_count": 164,
   "metadata": {},
   "outputs": [
    {
     "data": {
      "text/plain": [
       "0    262\n",
       "4      1\n",
       "Name: No_Upper, dtype: int64"
      ]
     },
     "execution_count": 164,
     "metadata": {},
     "output_type": "execute_result"
    }
   ],
   "source": [
    "df.No_Upper.value_counts()"
   ]
  },
  {
   "cell_type": "markdown",
   "metadata": {},
   "source": [
    "## Number of words with Proper Format"
   ]
  },
  {
   "cell_type": "code",
   "execution_count": 165,
   "metadata": {},
   "outputs": [],
   "source": [
    "def count_proper(text):\n",
    "    count=0\n",
    "    for i in text.split():\n",
    "        if text.istitle():\n",
    "            count+=1\n",
    "    return count"
   ]
  },
  {
   "cell_type": "code",
   "execution_count": 166,
   "metadata": {},
   "outputs": [],
   "source": [
    "df['No_proper']=df.Review_Text.apply(count_proper).value_counts()"
   ]
  },
  {
   "cell_type": "markdown",
   "metadata": {},
   "source": [
    "## Number of Emojis"
   ]
  },
  {
   "cell_type": "code",
   "execution_count": 167,
   "metadata": {},
   "outputs": [],
   "source": [
    "import emoji\n",
    "def emoji_count(text):\n",
    "    return emoji.emoji_count(text)"
   ]
  },
  {
   "cell_type": "code",
   "execution_count": 168,
   "metadata": {},
   "outputs": [],
   "source": [
    "df['Emoji_Count']=df.Review_Text.apply(emoji_count)"
   ]
  },
  {
   "cell_type": "code",
   "execution_count": 169,
   "metadata": {},
   "outputs": [
    {
     "data": {
      "text/plain": [
       "Sr.No\n",
       "1    0\n",
       "2    0\n",
       "3    0\n",
       "4    1\n",
       "5    0\n",
       "Name: Emoji_Count, dtype: int64"
      ]
     },
     "execution_count": 169,
     "metadata": {},
     "output_type": "execute_result"
    }
   ],
   "source": [
    "df.Emoji_Count.head()"
   ]
  },
  {
   "cell_type": "markdown",
   "metadata": {},
   "source": [
    "# NLP"
   ]
  },
  {
   "cell_type": "code",
   "execution_count": 170,
   "metadata": {},
   "outputs": [
    {
     "data": {
      "text/plain": [
       "Index(['Review_Title', 'Review_Text', 'Review_Rating', 'Buyer_Type',\n",
       "       'Review_Date', 'Upvote', 'Downvote', 'read', 'Sum_of_Up_Down',\n",
       "       'Len_before', 'Num_Sentence', 'No_QMark', 'No_ExMark', 'No_Upper',\n",
       "       'No_proper', 'Emoji_Count'],\n",
       "      dtype='object')"
      ]
     },
     "execution_count": 170,
     "metadata": {},
     "output_type": "execute_result"
    }
   ],
   "source": [
    "df.columns"
   ]
  },
  {
   "cell_type": "code",
   "execution_count": 171,
   "metadata": {},
   "outputs": [],
   "source": [
    "df[\"h\"]=np.round(df.Upvote /(df.Upvote + df.Downvote),2)"
   ]
  },
  {
   "cell_type": "code",
   "execution_count": 172,
   "metadata": {},
   "outputs": [
    {
     "data": {
      "text/plain": [
       "Index(['Review_Title', 'Review_Text', 'Review_Rating', 'Buyer_Type',\n",
       "       'Review_Date', 'Upvote', 'Downvote', 'read', 'Sum_of_Up_Down',\n",
       "       'Len_before', 'Num_Sentence', 'No_QMark', 'No_ExMark', 'No_Upper',\n",
       "       'No_proper', 'Emoji_Count', 'h'],\n",
       "      dtype='object')"
      ]
     },
     "execution_count": 172,
     "metadata": {},
     "output_type": "execute_result"
    }
   ],
   "source": [
    "df.columns"
   ]
  },
  {
   "cell_type": "markdown",
   "metadata": {},
   "source": [
    "<font color=\"red\"><h3>Saving all feature in a csv</h3></font>"
   ]
  },
  {
   "cell_type": "code",
   "execution_count": 173,
   "metadata": {},
   "outputs": [],
   "source": [
    "df.to_csv(\"withfeatures.csv\")"
   ]
  },
  {
   "cell_type": "code",
   "execution_count": 174,
   "metadata": {},
   "outputs": [],
   "source": [
    "X=df.iloc[:,:-1]\n",
    "y=df.iloc[:,-1]"
   ]
  },
  {
   "cell_type": "code",
   "execution_count": 175,
   "metadata": {},
   "outputs": [],
   "source": [
    "X=X.reset_index()"
   ]
  },
  {
   "cell_type": "code",
   "execution_count": 176,
   "metadata": {},
   "outputs": [],
   "source": [
    "X_train_val, X_test, y_train_val, y_test=train_test_split(X,y,test_size=60,random_state=0)\n",
    "X_train, X_val, y_train, y_val = train_test_split(X_train_val,y_train_val,test_size=60,random_state=0)"
   ]
  },
  {
   "cell_type": "code",
   "execution_count": 177,
   "metadata": {},
   "outputs": [
    {
     "data": {
      "text/plain": [
       "((143, 17), (60, 17), (60, 17))"
      ]
     },
     "execution_count": 177,
     "metadata": {},
     "output_type": "execute_result"
    }
   ],
   "source": [
    "X_train.shape,X_val.shape,X_test.shape"
   ]
  },
  {
   "cell_type": "code",
   "execution_count": 178,
   "metadata": {},
   "outputs": [
    {
     "data": {
      "text/plain": [
       "((143,), (60,), (60,))"
      ]
     },
     "execution_count": 178,
     "metadata": {},
     "output_type": "execute_result"
    }
   ],
   "source": [
    "y_train.shape,y_val.shape,y_test.shape"
   ]
  },
  {
   "cell_type": "markdown",
   "metadata": {},
   "source": [
    "<font color=\"red\"><h3>Going forward we are using Train Dataset alone</h3></font>"
   ]
  },
  {
   "cell_type": "markdown",
   "metadata": {},
   "source": [
    "### For Pipeline\n",
    "\n",
    "- Handling Emoji's and Special Characters\n",
    "- Spell Correct of Review_Text"
   ]
  },
  {
   "cell_type": "markdown",
   "metadata": {},
   "source": [
    "### Handling Emoji's"
   ]
  },
  {
   "cell_type": "code",
   "execution_count": 179,
   "metadata": {},
   "outputs": [],
   "source": [
    "def remove_emoji(text):\n",
    "    return text.encode('ascii','ignore').decode('ascii').strip()"
   ]
  },
  {
   "cell_type": "code",
   "execution_count": 180,
   "metadata": {},
   "outputs": [],
   "source": [
    "X_train['Review_Text']=X_train.Review_Text.apply(remove_emoji)"
   ]
  },
  {
   "cell_type": "code",
   "execution_count": 181,
   "metadata": {},
   "outputs": [
    {
     "data": {
      "text/plain": [
       "(143,)"
      ]
     },
     "execution_count": 181,
     "metadata": {},
     "output_type": "execute_result"
    }
   ],
   "source": [
    "X_train.Review_Text.shape"
   ]
  },
  {
   "cell_type": "markdown",
   "metadata": {},
   "source": [
    "## Punctuations"
   ]
  },
  {
   "cell_type": "code",
   "execution_count": 182,
   "metadata": {},
   "outputs": [],
   "source": [
    "def remove_punctuations(text):\n",
    "    return re.sub('[^\\w\\s%,-.]',\"\",text).strip()"
   ]
  },
  {
   "cell_type": "code",
   "execution_count": 183,
   "metadata": {},
   "outputs": [],
   "source": [
    "X_train.Review_Text=X_train.Review_Text.apply(remove_punctuations)"
   ]
  },
  {
   "cell_type": "code",
   "execution_count": 184,
   "metadata": {},
   "outputs": [
    {
     "data": {
      "text/plain": [
       "80     my iphone disply not worked within 5 days and ...\n",
       "6               black beauty... everything is perfect...\n",
       "119    with in 3 day used this is dead suddenly not s...\n",
       "112    On Time Delivery Best Part Of Flipkart.\\n \\n A...\n",
       "222    Awesome product - usual for Apple. Not having ...\n",
       "Name: Review_Text, dtype: object"
      ]
     },
     "execution_count": 184,
     "metadata": {},
     "output_type": "execute_result"
    }
   ],
   "source": [
    "X_train.Review_Text.head()"
   ]
  },
  {
   "cell_type": "markdown",
   "metadata": {},
   "source": [
    "### Correct Spelling from the review (Using Textblob)"
   ]
  },
  {
   "cell_type": "code",
   "execution_count": 185,
   "metadata": {},
   "outputs": [],
   "source": [
    "def spell_correct(text):\n",
    "    return str(TextBlob(text).correct())"
   ]
  },
  {
   "cell_type": "code",
   "execution_count": 186,
   "metadata": {},
   "outputs": [],
   "source": [
    "X_train.Review_Text=X_train.Review_Text.apply(spell_correct)"
   ]
  },
  {
   "cell_type": "code",
   "execution_count": 187,
   "metadata": {},
   "outputs": [
    {
     "data": {
      "text/plain": [
       "80     my phone display not worked within 5 days and ...\n",
       "6               black beauty... everything is perfect...\n",
       "119    with in 3 day used this is dead suddenly not s...\n",
       "112    In Time Delivery West Part Of Flipkart.\\n \\n A...\n",
       "222    Awesome product - usual for Apple. Not having ...\n",
       "Name: Review_Text, dtype: object"
      ]
     },
     "execution_count": 187,
     "metadata": {},
     "output_type": "execute_result"
    }
   ],
   "source": [
    "X_train.Review_Text.head()"
   ]
  },
  {
   "cell_type": "markdown",
   "metadata": {},
   "source": [
    "## Remove Stopwords and Applying Lemmatization of the word"
   ]
  },
  {
   "cell_type": "code",
   "execution_count": 209,
   "metadata": {},
   "outputs": [
    {
     "data": {
      "text/plain": [
       "['this',\n",
       " 'never',\n",
       " 'our',\n",
       " 'twelve',\n",
       " 'none',\n",
       " 'through',\n",
       " 'them',\n",
       " 'at',\n",
       " 'hereafter',\n",
       " 'those']"
      ]
     },
     "execution_count": 209,
     "metadata": {},
     "output_type": "execute_result"
    }
   ],
   "source": [
    "stopwords=list(nlp.Defaults.stop_words)\n",
    "stopwords[:10]"
   ]
  },
  {
   "cell_type": "code",
   "execution_count": 189,
   "metadata": {},
   "outputs": [],
   "source": [
    "X_train.Review_Text=X_train.Review_Text.apply(lambda text: \" \".join(token.lemma_ for token in nlp(text) \n",
    "                                           if not token.is_stop))"
   ]
  },
  {
   "cell_type": "code",
   "execution_count": 190,
   "metadata": {},
   "outputs": [
    {
     "name": "stdout",
     "output_type": "stream",
     "text": [
      "80     phone display work 5 day flipkaft didn support...\n",
      "6                           black beauty ... perfect ...\n",
      "119    3 day dead suddenly charging unable power \\n \\...\n",
      "112    Time Delivery West Flipkart . \\n \\n  Amazing R...\n",
      "222    awesome product - usual Apple . have round jac...\n",
      "185    buy product 60000 ruble repay courier boy keep...\n",
      "261    shone 7 great device . law whatsoever . feel p...\n",
      "54      face issue device unable initiate return replace\n",
      "249    apple device . honestly way well andro phone p...\n",
      "19     Expecticular Product ... phone good .... good ...\n",
      "Name: Review_Text, dtype: object\n"
     ]
    }
   ],
   "source": [
    "print(X_train.Review_Text.head(10))"
   ]
  },
  {
   "cell_type": "code",
   "execution_count": 191,
   "metadata": {},
   "outputs": [
    {
     "name": "stdout",
     "output_type": "stream",
     "text": [
      "phone display work 5 day flipkaft didn support way apple store , 10 day replacement warranty ...\n"
     ]
    }
   ],
   "source": [
    "print(X_train.Review_Text[80])"
   ]
  },
  {
   "cell_type": "code",
   "execution_count": 211,
   "metadata": {},
   "outputs": [],
   "source": [
    "X_train[\"Len_after\"] = X_train.Review_Text.apply(lambda x: len(x.split()))"
   ]
  },
  {
   "cell_type": "code",
   "execution_count": 193,
   "metadata": {},
   "outputs": [],
   "source": [
    "from sklearn.feature_extraction.text import CountVectorizer,TfidfVectorizer"
   ]
  },
  {
   "cell_type": "code",
   "execution_count": 194,
   "metadata": {},
   "outputs": [],
   "source": [
    "count = CountVectorizer()"
   ]
  },
  {
   "cell_type": "code",
   "execution_count": 195,
   "metadata": {},
   "outputs": [],
   "source": [
    "X=count.fit_transform(X_train.Review_Text)"
   ]
  },
  {
   "cell_type": "code",
   "execution_count": 196,
   "metadata": {},
   "outputs": [],
   "source": [
    "bow=pd.DataFrame(data=X.toarray(),columns=count.get_feature_names())"
   ]
  },
  {
   "cell_type": "code",
   "execution_count": 197,
   "metadata": {},
   "outputs": [
    {
     "data": {
      "text/html": [
       "<div>\n",
       "<style scoped>\n",
       "    .dataframe tbody tr th:only-of-type {\n",
       "        vertical-align: middle;\n",
       "    }\n",
       "\n",
       "    .dataframe tbody tr th {\n",
       "        vertical-align: top;\n",
       "    }\n",
       "\n",
       "    .dataframe thead th {\n",
       "        text-align: right;\n",
       "    }\n",
       "</style>\n",
       "<table border=\"1\" class=\"dataframe\">\n",
       "  <thead>\n",
       "    <tr style=\"text-align: right;\">\n",
       "      <th></th>\n",
       "      <th>10</th>\n",
       "      <th>100</th>\n",
       "      <th>1080p</th>\n",
       "      <th>12</th>\n",
       "      <th>128</th>\n",
       "      <th>15</th>\n",
       "      <th>16</th>\n",
       "      <th>1664128</th>\n",
       "      <th>1715</th>\n",
       "      <th>1960</th>\n",
       "      <th>...</th>\n",
       "      <th>world</th>\n",
       "      <th>worry</th>\n",
       "      <th>worth</th>\n",
       "      <th>wow</th>\n",
       "      <th>write</th>\n",
       "      <th>wrong</th>\n",
       "      <th>year</th>\n",
       "      <th>yes</th>\n",
       "      <th>you</th>\n",
       "      <th>young</th>\n",
       "    </tr>\n",
       "  </thead>\n",
       "  <tbody>\n",
       "    <tr>\n",
       "      <th>0</th>\n",
       "      <td>1</td>\n",
       "      <td>0</td>\n",
       "      <td>0</td>\n",
       "      <td>0</td>\n",
       "      <td>0</td>\n",
       "      <td>0</td>\n",
       "      <td>0</td>\n",
       "      <td>0</td>\n",
       "      <td>0</td>\n",
       "      <td>0</td>\n",
       "      <td>...</td>\n",
       "      <td>0</td>\n",
       "      <td>0</td>\n",
       "      <td>0</td>\n",
       "      <td>0</td>\n",
       "      <td>0</td>\n",
       "      <td>0</td>\n",
       "      <td>0</td>\n",
       "      <td>0</td>\n",
       "      <td>0</td>\n",
       "      <td>0</td>\n",
       "    </tr>\n",
       "    <tr>\n",
       "      <th>1</th>\n",
       "      <td>0</td>\n",
       "      <td>0</td>\n",
       "      <td>0</td>\n",
       "      <td>0</td>\n",
       "      <td>0</td>\n",
       "      <td>0</td>\n",
       "      <td>0</td>\n",
       "      <td>0</td>\n",
       "      <td>0</td>\n",
       "      <td>0</td>\n",
       "      <td>...</td>\n",
       "      <td>0</td>\n",
       "      <td>0</td>\n",
       "      <td>0</td>\n",
       "      <td>0</td>\n",
       "      <td>0</td>\n",
       "      <td>0</td>\n",
       "      <td>0</td>\n",
       "      <td>0</td>\n",
       "      <td>0</td>\n",
       "      <td>0</td>\n",
       "    </tr>\n",
       "    <tr>\n",
       "      <th>2</th>\n",
       "      <td>0</td>\n",
       "      <td>0</td>\n",
       "      <td>0</td>\n",
       "      <td>0</td>\n",
       "      <td>0</td>\n",
       "      <td>0</td>\n",
       "      <td>0</td>\n",
       "      <td>0</td>\n",
       "      <td>0</td>\n",
       "      <td>0</td>\n",
       "      <td>...</td>\n",
       "      <td>0</td>\n",
       "      <td>0</td>\n",
       "      <td>0</td>\n",
       "      <td>0</td>\n",
       "      <td>0</td>\n",
       "      <td>0</td>\n",
       "      <td>0</td>\n",
       "      <td>0</td>\n",
       "      <td>0</td>\n",
       "      <td>0</td>\n",
       "    </tr>\n",
       "    <tr>\n",
       "      <th>3</th>\n",
       "      <td>0</td>\n",
       "      <td>0</td>\n",
       "      <td>0</td>\n",
       "      <td>0</td>\n",
       "      <td>0</td>\n",
       "      <td>0</td>\n",
       "      <td>0</td>\n",
       "      <td>0</td>\n",
       "      <td>0</td>\n",
       "      <td>0</td>\n",
       "      <td>...</td>\n",
       "      <td>0</td>\n",
       "      <td>0</td>\n",
       "      <td>0</td>\n",
       "      <td>0</td>\n",
       "      <td>0</td>\n",
       "      <td>0</td>\n",
       "      <td>0</td>\n",
       "      <td>0</td>\n",
       "      <td>0</td>\n",
       "      <td>0</td>\n",
       "    </tr>\n",
       "    <tr>\n",
       "      <th>4</th>\n",
       "      <td>0</td>\n",
       "      <td>0</td>\n",
       "      <td>0</td>\n",
       "      <td>0</td>\n",
       "      <td>0</td>\n",
       "      <td>1</td>\n",
       "      <td>0</td>\n",
       "      <td>0</td>\n",
       "      <td>0</td>\n",
       "      <td>0</td>\n",
       "      <td>...</td>\n",
       "      <td>0</td>\n",
       "      <td>0</td>\n",
       "      <td>0</td>\n",
       "      <td>0</td>\n",
       "      <td>0</td>\n",
       "      <td>0</td>\n",
       "      <td>0</td>\n",
       "      <td>0</td>\n",
       "      <td>0</td>\n",
       "      <td>0</td>\n",
       "    </tr>\n",
       "  </tbody>\n",
       "</table>\n",
       "<p>5 rows × 1188 columns</p>\n",
       "</div>"
      ],
      "text/plain": [
       "   10  100  1080p  12  128  15  16  1664128  1715  1960  ...  world  worry  \\\n",
       "0   1    0      0   0    0   0   0        0     0     0  ...      0      0   \n",
       "1   0    0      0   0    0   0   0        0     0     0  ...      0      0   \n",
       "2   0    0      0   0    0   0   0        0     0     0  ...      0      0   \n",
       "3   0    0      0   0    0   0   0        0     0     0  ...      0      0   \n",
       "4   0    0      0   0    0   1   0        0     0     0  ...      0      0   \n",
       "\n",
       "   worth  wow  write  wrong  year  yes  you  young  \n",
       "0      0    0      0      0     0    0    0      0  \n",
       "1      0    0      0      0     0    0    0      0  \n",
       "2      0    0      0      0     0    0    0      0  \n",
       "3      0    0      0      0     0    0    0      0  \n",
       "4      0    0      0      0     0    0    0      0  \n",
       "\n",
       "[5 rows x 1188 columns]"
      ]
     },
     "execution_count": 197,
     "metadata": {},
     "output_type": "execute_result"
    }
   ],
   "source": [
    "bow.head()"
   ]
  },
  {
   "cell_type": "code",
   "execution_count": 198,
   "metadata": {},
   "outputs": [],
   "source": [
    "tfidf= TfidfVectorizer()"
   ]
  },
  {
   "cell_type": "code",
   "execution_count": 199,
   "metadata": {},
   "outputs": [],
   "source": [
    "X=tfidf.fit_transform(X_train.Review_Text)"
   ]
  },
  {
   "cell_type": "code",
   "execution_count": 200,
   "metadata": {},
   "outputs": [],
   "source": [
    "tfidf=pd.DataFrame(data=X.toarray(),columns=tfidf.get_feature_names())"
   ]
  },
  {
   "cell_type": "code",
   "execution_count": 201,
   "metadata": {},
   "outputs": [
    {
     "data": {
      "text/html": [
       "<div>\n",
       "<style scoped>\n",
       "    .dataframe tbody tr th:only-of-type {\n",
       "        vertical-align: middle;\n",
       "    }\n",
       "\n",
       "    .dataframe tbody tr th {\n",
       "        vertical-align: top;\n",
       "    }\n",
       "\n",
       "    .dataframe thead th {\n",
       "        text-align: right;\n",
       "    }\n",
       "</style>\n",
       "<table border=\"1\" class=\"dataframe\">\n",
       "  <thead>\n",
       "    <tr style=\"text-align: right;\">\n",
       "      <th></th>\n",
       "      <th>10</th>\n",
       "      <th>100</th>\n",
       "      <th>1080p</th>\n",
       "      <th>12</th>\n",
       "      <th>128</th>\n",
       "      <th>15</th>\n",
       "      <th>16</th>\n",
       "      <th>1664128</th>\n",
       "      <th>1715</th>\n",
       "      <th>1960</th>\n",
       "      <th>...</th>\n",
       "      <th>world</th>\n",
       "      <th>worry</th>\n",
       "      <th>worth</th>\n",
       "      <th>wow</th>\n",
       "      <th>write</th>\n",
       "      <th>wrong</th>\n",
       "      <th>year</th>\n",
       "      <th>yes</th>\n",
       "      <th>you</th>\n",
       "      <th>young</th>\n",
       "    </tr>\n",
       "  </thead>\n",
       "  <tbody>\n",
       "    <tr>\n",
       "      <th>0</th>\n",
       "      <td>0.276619</td>\n",
       "      <td>0.0</td>\n",
       "      <td>0.0</td>\n",
       "      <td>0.0</td>\n",
       "      <td>0.0</td>\n",
       "      <td>0.000000</td>\n",
       "      <td>0.0</td>\n",
       "      <td>0.0</td>\n",
       "      <td>0.0</td>\n",
       "      <td>0.0</td>\n",
       "      <td>...</td>\n",
       "      <td>0.0</td>\n",
       "      <td>0.0</td>\n",
       "      <td>0.0</td>\n",
       "      <td>0.0</td>\n",
       "      <td>0.0</td>\n",
       "      <td>0.0</td>\n",
       "      <td>0.0</td>\n",
       "      <td>0.0</td>\n",
       "      <td>0.0</td>\n",
       "      <td>0.0</td>\n",
       "    </tr>\n",
       "    <tr>\n",
       "      <th>1</th>\n",
       "      <td>0.000000</td>\n",
       "      <td>0.0</td>\n",
       "      <td>0.0</td>\n",
       "      <td>0.0</td>\n",
       "      <td>0.0</td>\n",
       "      <td>0.000000</td>\n",
       "      <td>0.0</td>\n",
       "      <td>0.0</td>\n",
       "      <td>0.0</td>\n",
       "      <td>0.0</td>\n",
       "      <td>...</td>\n",
       "      <td>0.0</td>\n",
       "      <td>0.0</td>\n",
       "      <td>0.0</td>\n",
       "      <td>0.0</td>\n",
       "      <td>0.0</td>\n",
       "      <td>0.0</td>\n",
       "      <td>0.0</td>\n",
       "      <td>0.0</td>\n",
       "      <td>0.0</td>\n",
       "      <td>0.0</td>\n",
       "    </tr>\n",
       "    <tr>\n",
       "      <th>2</th>\n",
       "      <td>0.000000</td>\n",
       "      <td>0.0</td>\n",
       "      <td>0.0</td>\n",
       "      <td>0.0</td>\n",
       "      <td>0.0</td>\n",
       "      <td>0.000000</td>\n",
       "      <td>0.0</td>\n",
       "      <td>0.0</td>\n",
       "      <td>0.0</td>\n",
       "      <td>0.0</td>\n",
       "      <td>...</td>\n",
       "      <td>0.0</td>\n",
       "      <td>0.0</td>\n",
       "      <td>0.0</td>\n",
       "      <td>0.0</td>\n",
       "      <td>0.0</td>\n",
       "      <td>0.0</td>\n",
       "      <td>0.0</td>\n",
       "      <td>0.0</td>\n",
       "      <td>0.0</td>\n",
       "      <td>0.0</td>\n",
       "    </tr>\n",
       "    <tr>\n",
       "      <th>3</th>\n",
       "      <td>0.000000</td>\n",
       "      <td>0.0</td>\n",
       "      <td>0.0</td>\n",
       "      <td>0.0</td>\n",
       "      <td>0.0</td>\n",
       "      <td>0.000000</td>\n",
       "      <td>0.0</td>\n",
       "      <td>0.0</td>\n",
       "      <td>0.0</td>\n",
       "      <td>0.0</td>\n",
       "      <td>...</td>\n",
       "      <td>0.0</td>\n",
       "      <td>0.0</td>\n",
       "      <td>0.0</td>\n",
       "      <td>0.0</td>\n",
       "      <td>0.0</td>\n",
       "      <td>0.0</td>\n",
       "      <td>0.0</td>\n",
       "      <td>0.0</td>\n",
       "      <td>0.0</td>\n",
       "      <td>0.0</td>\n",
       "    </tr>\n",
       "    <tr>\n",
       "      <th>4</th>\n",
       "      <td>0.000000</td>\n",
       "      <td>0.0</td>\n",
       "      <td>0.0</td>\n",
       "      <td>0.0</td>\n",
       "      <td>0.0</td>\n",
       "      <td>0.242781</td>\n",
       "      <td>0.0</td>\n",
       "      <td>0.0</td>\n",
       "      <td>0.0</td>\n",
       "      <td>0.0</td>\n",
       "      <td>...</td>\n",
       "      <td>0.0</td>\n",
       "      <td>0.0</td>\n",
       "      <td>0.0</td>\n",
       "      <td>0.0</td>\n",
       "      <td>0.0</td>\n",
       "      <td>0.0</td>\n",
       "      <td>0.0</td>\n",
       "      <td>0.0</td>\n",
       "      <td>0.0</td>\n",
       "      <td>0.0</td>\n",
       "    </tr>\n",
       "  </tbody>\n",
       "</table>\n",
       "<p>5 rows × 1188 columns</p>\n",
       "</div>"
      ],
      "text/plain": [
       "         10  100  1080p   12  128        15   16  1664128  1715  1960  ...  \\\n",
       "0  0.276619  0.0    0.0  0.0  0.0  0.000000  0.0      0.0   0.0   0.0  ...   \n",
       "1  0.000000  0.0    0.0  0.0  0.0  0.000000  0.0      0.0   0.0   0.0  ...   \n",
       "2  0.000000  0.0    0.0  0.0  0.0  0.000000  0.0      0.0   0.0   0.0  ...   \n",
       "3  0.000000  0.0    0.0  0.0  0.0  0.000000  0.0      0.0   0.0   0.0  ...   \n",
       "4  0.000000  0.0    0.0  0.0  0.0  0.242781  0.0      0.0   0.0   0.0  ...   \n",
       "\n",
       "   world  worry  worth  wow  write  wrong  year  yes  you  young  \n",
       "0    0.0    0.0    0.0  0.0    0.0    0.0   0.0  0.0  0.0    0.0  \n",
       "1    0.0    0.0    0.0  0.0    0.0    0.0   0.0  0.0  0.0    0.0  \n",
       "2    0.0    0.0    0.0  0.0    0.0    0.0   0.0  0.0  0.0    0.0  \n",
       "3    0.0    0.0    0.0  0.0    0.0    0.0   0.0  0.0  0.0    0.0  \n",
       "4    0.0    0.0    0.0  0.0    0.0    0.0   0.0  0.0  0.0    0.0  \n",
       "\n",
       "[5 rows x 1188 columns]"
      ]
     },
     "execution_count": 201,
     "metadata": {},
     "output_type": "execute_result"
    }
   ],
   "source": [
    "tfidf.head()"
   ]
  },
  {
   "cell_type": "markdown",
   "metadata": {},
   "source": [
    "## POS Tagging"
   ]
  },
  {
   "cell_type": "code",
   "execution_count": 212,
   "metadata": {},
   "outputs": [],
   "source": [
    "def pos(text):\n",
    "    doc=nlp(text)\n",
    "    return ' '.join([token.pos_ for token in doc])"
   ]
  },
  {
   "cell_type": "code",
   "execution_count": 213,
   "metadata": {},
   "outputs": [],
   "source": [
    "X_train['POS']=X_train.Review_Text.apply(pos)"
   ]
  },
  {
   "cell_type": "code",
   "execution_count": 214,
   "metadata": {},
   "outputs": [
    {
     "data": {
      "text/plain": [
       "80     NOUN NOUN NOUN NUM NOUN PROPN PROPN PROPN PROP...\n",
       "6                               ADJ NOUN PUNCT ADJ PUNCT\n",
       "119    NUM NOUN ADV ADV VERB ADJ NOUN SPACE ADV VERB ...\n",
       "112    PROPN PROPN PROPN PROPN PUNCT SPACE ADJ ADJ PR...\n",
       "222    ADJ NOUN PUNCT ADJ PROPN PUNCT AUX PROPN PROPN...\n",
       "                             ...                        \n",
       "41                                                 PROPN\n",
       "36     ADJ NOUN NOUN ADJ NOUN NOUN NOUN VERB ADJ NOUN...\n",
       "201    NOUN SPACE NUM PUNCT NOUN NOUN SPACE NUM PUNCT...\n",
       "60                                     ADJ NOUN ADJ NOUN\n",
       "115    ADJ SPACE NOUN ADJ PUNCT ADJ NOUN SPACE NOUN N...\n",
       "Name: POS, Length: 143, dtype: object"
      ]
     },
     "execution_count": 214,
     "metadata": {},
     "output_type": "execute_result"
    }
   ],
   "source": [
    "X_train.POS"
   ]
  },
  {
   "cell_type": "markdown",
   "metadata": {},
   "source": [
    "## Percentage of Noun"
   ]
  },
  {
   "cell_type": "code",
   "execution_count": 228,
   "metadata": {},
   "outputs": [],
   "source": [
    "def Noun(text):\n",
    "    text_len=len(text.split())\n",
    "    noun_count=0\n",
    "#     print(text.split())\n",
    "    for word in text.split():\n",
    "        if word=='NOUN':\n",
    "            noun_count+=1\n",
    "    return np.round((noun_count/text_len)*100,2)"
   ]
  },
  {
   "cell_type": "code",
   "execution_count": 229,
   "metadata": {},
   "outputs": [],
   "source": [
    "X_train['Perc_Noun']=X_train.POS.apply(Noun)"
   ]
  },
  {
   "cell_type": "code",
   "execution_count": 231,
   "metadata": {},
   "outputs": [
    {
     "data": {
      "text/plain": [
       "80     47.06\n",
       "6      20.00\n",
       "119    32.65\n",
       "112    24.32\n",
       "222    25.93\n",
       "Name: Perc_Noun, dtype: float64"
      ]
     },
     "execution_count": 231,
     "metadata": {},
     "output_type": "execute_result"
    }
   ],
   "source": [
    "X_train['Perc_Noun'].head()"
   ]
  },
  {
   "cell_type": "markdown",
   "metadata": {},
   "source": [
    "## Percentage of Verb"
   ]
  },
  {
   "cell_type": "code",
   "execution_count": 223,
   "metadata": {},
   "outputs": [],
   "source": [
    "def Verb(text):\n",
    "    text_len=len(text.split())\n",
    "    verb_count=0\n",
    "    for word in text.split():\n",
    "        if word=='VERB':\n",
    "            verb_count+=1\n",
    "    return np.round((verb_count/text_len)*100,2)"
   ]
  },
  {
   "cell_type": "code",
   "execution_count": 232,
   "metadata": {},
   "outputs": [],
   "source": [
    "X_train['Perc_Verb']=X_train.POS.apply(Verb)"
   ]
  },
  {
   "cell_type": "code",
   "execution_count": 234,
   "metadata": {},
   "outputs": [
    {
     "data": {
      "text/plain": [
       "80      0.00\n",
       "6       0.00\n",
       "119     6.12\n",
       "112    13.51\n",
       "222     7.41\n",
       "Name: Perc_Verb, dtype: float64"
      ]
     },
     "execution_count": 234,
     "metadata": {},
     "output_type": "execute_result"
    }
   ],
   "source": [
    "X_train.Perc_Verb.head()"
   ]
  },
  {
   "cell_type": "code",
   "execution_count": null,
   "metadata": {},
   "outputs": [],
   "source": []
  },
  {
   "cell_type": "code",
   "execution_count": 236,
   "metadata": {},
   "outputs": [
    {
     "data": {
      "text/plain": [
       "Index(['Sr.No', 'Review_Title', 'Review_Text', 'Review_Rating', 'Buyer_Type',\n",
       "       'Review_Date', 'Upvote', 'Downvote', 'read', 'Sum_of_Up_Down',\n",
       "       'Len_before', 'Num_Sentence', 'No_QMark', 'No_ExMark', 'No_Upper',\n",
       "       'No_proper', 'Emoji_Count', 'POS', 'Len_after', 'Perc_Noun',\n",
       "       'Perc_Verb'],\n",
       "      dtype='object')"
      ]
     },
     "execution_count": 236,
     "metadata": {},
     "output_type": "execute_result"
    }
   ],
   "source": [
    "X_train.columns"
   ]
  },
  {
   "cell_type": "code",
   "execution_count": 241,
   "metadata": {},
   "outputs": [
    {
     "data": {
      "text/html": [
       "<div>\n",
       "<style scoped>\n",
       "    .dataframe tbody tr th:only-of-type {\n",
       "        vertical-align: middle;\n",
       "    }\n",
       "\n",
       "    .dataframe tbody tr th {\n",
       "        vertical-align: top;\n",
       "    }\n",
       "\n",
       "    .dataframe thead th {\n",
       "        text-align: right;\n",
       "    }\n",
       "</style>\n",
       "<table border=\"1\" class=\"dataframe\">\n",
       "  <thead>\n",
       "    <tr style=\"text-align: right;\">\n",
       "      <th></th>\n",
       "      <th>Sr.No</th>\n",
       "      <th>Review_Title</th>\n",
       "      <th>Review_Text</th>\n",
       "      <th>Review_Rating</th>\n",
       "      <th>Buyer_Type</th>\n",
       "      <th>Review_Date</th>\n",
       "      <th>Upvote</th>\n",
       "      <th>Downvote</th>\n",
       "      <th>read</th>\n",
       "      <th>Sum_of_Up_Down</th>\n",
       "      <th>Len_before</th>\n",
       "      <th>Num_Sentence</th>\n",
       "      <th>No_QMark</th>\n",
       "      <th>No_ExMark</th>\n",
       "      <th>No_Upper</th>\n",
       "      <th>No_proper</th>\n",
       "      <th>Emoji_Count</th>\n",
       "      <th>POS</th>\n",
       "      <th>Len_after</th>\n",
       "      <th>Perc_Noun</th>\n",
       "      <th>Perc_Verb</th>\n",
       "    </tr>\n",
       "  </thead>\n",
       "  <tbody>\n",
       "    <tr>\n",
       "      <th>80</th>\n",
       "      <td>85</td>\n",
       "      <td>Utterly Disappointed</td>\n",
       "      <td>phone display work 5 day flipkaft didn support...</td>\n",
       "      <td>1</td>\n",
       "      <td>Certified Buyer</td>\n",
       "      <td>Feb, 2018</td>\n",
       "      <td>25</td>\n",
       "      <td>8</td>\n",
       "      <td>NaN</td>\n",
       "      <td>33</td>\n",
       "      <td>28</td>\n",
       "      <td>1</td>\n",
       "      <td>0</td>\n",
       "      <td>NaN</td>\n",
       "      <td>0</td>\n",
       "      <td>NaN</td>\n",
       "      <td>0</td>\n",
       "      <td>NOUN NOUN NOUN NUM NOUN PROPN PROPN PROPN PROP...</td>\n",
       "      <td>17</td>\n",
       "      <td>47.06</td>\n",
       "      <td>0.00</td>\n",
       "    </tr>\n",
       "    <tr>\n",
       "      <th>6</th>\n",
       "      <td>7</td>\n",
       "      <td>Best in the market!</td>\n",
       "      <td>black beauty ... perfect ...</td>\n",
       "      <td>5</td>\n",
       "      <td>Certified Buyer</td>\n",
       "      <td>Apr, 2018</td>\n",
       "      <td>1970</td>\n",
       "      <td>388</td>\n",
       "      <td>NaN</td>\n",
       "      <td>2358</td>\n",
       "      <td>5</td>\n",
       "      <td>1</td>\n",
       "      <td>0</td>\n",
       "      <td>NaN</td>\n",
       "      <td>0</td>\n",
       "      <td>NaN</td>\n",
       "      <td>0</td>\n",
       "      <td>ADJ NOUN PUNCT ADJ PUNCT</td>\n",
       "      <td>5</td>\n",
       "      <td>20.00</td>\n",
       "      <td>0.00</td>\n",
       "    </tr>\n",
       "    <tr>\n",
       "      <th>119</th>\n",
       "      <td>133</td>\n",
       "      <td>Absolute rubbish!</td>\n",
       "      <td>3 day dead suddenly charging unable power \\n \\...</td>\n",
       "      <td>1</td>\n",
       "      <td>Certified Buyer</td>\n",
       "      <td>Nov, 2018</td>\n",
       "      <td>9</td>\n",
       "      <td>2</td>\n",
       "      <td>NaN</td>\n",
       "      <td>11</td>\n",
       "      <td>73</td>\n",
       "      <td>1</td>\n",
       "      <td>0</td>\n",
       "      <td>NaN</td>\n",
       "      <td>0</td>\n",
       "      <td>NaN</td>\n",
       "      <td>0</td>\n",
       "      <td>NUM NOUN ADV ADV VERB ADJ NOUN SPACE ADV VERB ...</td>\n",
       "      <td>41</td>\n",
       "      <td>32.65</td>\n",
       "      <td>6.12</td>\n",
       "    </tr>\n",
       "    <tr>\n",
       "      <th>112</th>\n",
       "      <td>126</td>\n",
       "      <td>Amazing service from Apple &amp; Flipkart</td>\n",
       "      <td>Time Delivery West Flipkart . \\n \\n  Amazing R...</td>\n",
       "      <td>5</td>\n",
       "      <td>Certified Buyer</td>\n",
       "      <td>Oct, 2016</td>\n",
       "      <td>46</td>\n",
       "      <td>28</td>\n",
       "      <td>NaN</td>\n",
       "      <td>74</td>\n",
       "      <td>46</td>\n",
       "      <td>8</td>\n",
       "      <td>0</td>\n",
       "      <td>NaN</td>\n",
       "      <td>0</td>\n",
       "      <td>NaN</td>\n",
       "      <td>0</td>\n",
       "      <td>PROPN PROPN PROPN PROPN PUNCT SPACE ADJ ADJ PR...</td>\n",
       "      <td>33</td>\n",
       "      <td>24.32</td>\n",
       "      <td>13.51</td>\n",
       "    </tr>\n",
       "    <tr>\n",
       "      <th>222</th>\n",
       "      <td>1025</td>\n",
       "      <td>Thanks to Flipkart</td>\n",
       "      <td>awesome product - usual Apple . have round jac...</td>\n",
       "      <td>5</td>\n",
       "      <td>Certified Buyer</td>\n",
       "      <td>Oct, 2016</td>\n",
       "      <td>6</td>\n",
       "      <td>10</td>\n",
       "      <td>NaN</td>\n",
       "      <td>16</td>\n",
       "      <td>39</td>\n",
       "      <td>4</td>\n",
       "      <td>0</td>\n",
       "      <td>NaN</td>\n",
       "      <td>0</td>\n",
       "      <td>NaN</td>\n",
       "      <td>0</td>\n",
       "      <td>ADJ NOUN PUNCT ADJ PROPN PUNCT AUX PROPN PROPN...</td>\n",
       "      <td>26</td>\n",
       "      <td>25.93</td>\n",
       "      <td>7.41</td>\n",
       "    </tr>\n",
       "  </tbody>\n",
       "</table>\n",
       "</div>"
      ],
      "text/plain": [
       "     Sr.No                           Review_Title  \\\n",
       "80      85                   Utterly Disappointed   \n",
       "6        7                    Best in the market!   \n",
       "119    133                      Absolute rubbish!   \n",
       "112    126  Amazing service from Apple & Flipkart   \n",
       "222   1025                     Thanks to Flipkart   \n",
       "\n",
       "                                           Review_Text  Review_Rating  \\\n",
       "80   phone display work 5 day flipkaft didn support...              1   \n",
       "6                         black beauty ... perfect ...              5   \n",
       "119  3 day dead suddenly charging unable power \\n \\...              1   \n",
       "112  Time Delivery West Flipkart . \\n \\n  Amazing R...              5   \n",
       "222  awesome product - usual Apple . have round jac...              5   \n",
       "\n",
       "          Buyer_Type Review_Date  Upvote  Downvote read  Sum_of_Up_Down  \\\n",
       "80   Certified Buyer   Feb, 2018      25         8  NaN              33   \n",
       "6    Certified Buyer   Apr, 2018    1970       388  NaN            2358   \n",
       "119  Certified Buyer   Nov, 2018       9         2  NaN              11   \n",
       "112  Certified Buyer   Oct, 2016      46        28  NaN              74   \n",
       "222  Certified Buyer   Oct, 2016       6        10  NaN              16   \n",
       "\n",
       "     Len_before  Num_Sentence  No_QMark  No_ExMark  No_Upper  No_proper  \\\n",
       "80           28             1         0        NaN         0        NaN   \n",
       "6             5             1         0        NaN         0        NaN   \n",
       "119          73             1         0        NaN         0        NaN   \n",
       "112          46             8         0        NaN         0        NaN   \n",
       "222          39             4         0        NaN         0        NaN   \n",
       "\n",
       "     Emoji_Count                                                POS  \\\n",
       "80             0  NOUN NOUN NOUN NUM NOUN PROPN PROPN PROPN PROP...   \n",
       "6              0                           ADJ NOUN PUNCT ADJ PUNCT   \n",
       "119            0  NUM NOUN ADV ADV VERB ADJ NOUN SPACE ADV VERB ...   \n",
       "112            0  PROPN PROPN PROPN PROPN PUNCT SPACE ADJ ADJ PR...   \n",
       "222            0  ADJ NOUN PUNCT ADJ PROPN PUNCT AUX PROPN PROPN...   \n",
       "\n",
       "     Len_after  Perc_Noun  Perc_Verb  \n",
       "80          17      47.06       0.00  \n",
       "6            5      20.00       0.00  \n",
       "119         41      32.65       6.12  \n",
       "112         33      24.32      13.51  \n",
       "222         26      25.93       7.41  "
      ]
     },
     "execution_count": 241,
     "metadata": {},
     "output_type": "execute_result"
    }
   ],
   "source": [
    "X_train.head()"
   ]
  },
  {
   "cell_type": "code",
   "execution_count": null,
   "metadata": {},
   "outputs": [],
   "source": []
  }
 ],
 "metadata": {
  "kernelspec": {
   "display_name": "Python 3",
   "language": "python",
   "name": "python3"
  },
  "language_info": {
   "codemirror_mode": {
    "name": "ipython",
    "version": 3
   },
   "file_extension": ".py",
   "mimetype": "text/x-python",
   "name": "python",
   "nbconvert_exporter": "python",
   "pygments_lexer": "ipython3",
   "version": "3.7.6"
  }
 },
 "nbformat": 4,
 "nbformat_minor": 4
}
